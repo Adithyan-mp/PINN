{
 "cells": [
  {
   "cell_type": "code",
   "execution_count": 1,
   "metadata": {},
   "outputs": [
    {
     "name": "stdout",
     "output_type": "stream",
     "text": [
      "WARNING:tensorflow:From c:\\Users\\adith\\anaconda3\\lib\\site-packages\\keras\\src\\losses.py:2976: The name tf.losses.sparse_softmax_cross_entropy is deprecated. Please use tf.compat.v1.losses.sparse_softmax_cross_entropy instead.\n",
      "\n"
     ]
    }
   ],
   "source": [
    "import numpy as np\n",
    "import tensorflow as tf\n",
    "from tensorflow.keras.layers import Dense\n",
    "from tensorflow.keras.models import Sequential\n",
    "import pandas as pd\n",
    "import matplotlib.pyplot as plt\n",
    "import seaborn as sns"
   ]
  },
  {
   "cell_type": "code",
   "execution_count": 2,
   "metadata": {},
   "outputs": [],
   "source": [
    "# Generate training data\n",
    "np.random.seed(42)\n",
    "num_samples = 1000\n",
    "x_train = np.random.uniform(low=0, high=1, size=(num_samples, 1))\n",
    "t_train = np.random.uniform(low=0, high=1, size=(num_samples, 1))\n",
    "u_exact = np.sin(np.pi * x_train) * np.exp(-np.pi**2 * t_train)\n",
    "\n",
    "# Convert to TensorFlow tensors\n",
    "x_train_tf = tf.convert_to_tensor(x_train, dtype=tf.float32)\n",
    "t_train_tf = tf.convert_to_tensor(t_train, dtype=tf.float32)\n",
    "u_exact_tf = tf.convert_to_tensor(u_exact, dtype=tf.float32)\n",
    "\n",
    "# Combine x and t for training input\n",
    "input_train = tf.concat([x_train_tf, t_train_tf], axis=1)\n",
    "\n",
    "# Generate test data for prediction\n",
    "x_test = np.linspace(0, 1, 100).reshape(-1, 1)\n",
    "t_test = np.linspace(0, 1, 100).reshape(-1, 1)\n",
    "\n",
    "# Convert to TensorFlow tensors\n",
    "x_test_tf = tf.convert_to_tensor(x_test, dtype=tf.float32)\n",
    "t_test_tf = tf.convert_to_tensor(t_test, dtype=tf.float32)\n",
    "\n",
    "input_test = tf.concat([x_test_tf, t_test_tf], axis=1)\n",
    "\n",
    "u_exact_test = np.sin(np.pi * x_test) * np.exp(-np.pi**2 * t_test)\n",
    "u_exact_test_tf = tf.convert_to_tensor(u_exact_test, dtype=tf.float32)"
   ]
  },
  {
   "cell_type": "code",
   "execution_count": 3,
   "metadata": {},
   "outputs": [
    {
     "name": "stdout",
     "output_type": "stream",
     "text": [
      "WARNING:tensorflow:From c:\\Users\\adith\\anaconda3\\lib\\site-packages\\keras\\src\\backend.py:873: The name tf.get_default_graph is deprecated. Please use tf.compat.v1.get_default_graph instead.\n",
      "\n"
     ]
    }
   ],
   "source": [
    "model=Sequential([\n",
    "    # tf.keras.Input((1000,2)),\n",
    "    Dense(units=50,activation='tanh'),\n",
    "    Dense(units=50,activation='tanh'),\n",
    "    Dense(units=1,activation='linear')\n",
    "])"
   ]
  },
  {
   "cell_type": "code",
   "execution_count": 4,
   "metadata": {},
   "outputs": [],
   "source": [
    "def loss(model, x, t):\n",
    "    with tf.GradientTape(persistent=True) as tape:\n",
    "        tape.watch(x)\n",
    "        tape.watch(t)\n",
    "        u_pred = model(tf.concat((x, t), axis=1))\n",
    "        du_x = tape.gradient(u_pred, x)\n",
    "        du_xx = tape.gradient(du_x, x)\n",
    "        du_dt = tape.gradient(u_pred, t)\n",
    "        del tape\n",
    "\n",
    "    alpha = 0.00001\n",
    "    physics_residual = du_dt - alpha * du_xx\n",
    "    physics_loss = tf.reduce_mean(tf.square(physics_residual))\n",
    "    data_loss = tf.reduce_mean(tf.square(u_pred - u_exact_tf))\n",
    "    total_loss = physics_loss + data_loss\n",
    "    \n",
    "    return total_loss, physics_loss, data_loss"
   ]
  },
  {
   "cell_type": "code",
   "execution_count": 5,
   "metadata": {},
   "outputs": [],
   "source": [
    "from tensorflow.keras.optimizers import Adam"
   ]
  },
  {
   "cell_type": "code",
   "execution_count": 6,
   "metadata": {},
   "outputs": [],
   "source": [
    "optimizer=Adam(learning_rate=1e-3)"
   ]
  },
  {
   "cell_type": "code",
   "execution_count": 7,
   "metadata": {},
   "outputs": [
    {
     "name": "stdout",
     "output_type": "stream",
     "text": [
      "WARNING:tensorflow:Calling GradientTape.gradient on a persistent tape inside its context is significantly less efficient than calling it outside the context (it causes the gradient ops to be recorded on the tape, leading to increased CPU and memory usage). Only call GradientTape.gradient inside the context if you actually want to trace the gradient in order to compute higher order derivatives.\n",
      "WARNING:tensorflow:Calling GradientTape.gradient on a persistent tape inside its context is significantly less efficient than calling it outside the context (it causes the gradient ops to be recorded on the tape, leading to increased CPU and memory usage). Only call GradientTape.gradient inside the context if you actually want to trace the gradient in order to compute higher order derivatives.\n",
      "WARNING:tensorflow:Calling GradientTape.gradient on a persistent tape inside its context is significantly less efficient than calling it outside the context (it causes the gradient ops to be recorded on the tape, leading to increased CPU and memory usage). Only call GradientTape.gradient inside the context if you actually want to trace the gradient in order to compute higher order derivatives.\n",
      "Epoch 0/2000, Total Loss: 0.1492920070886612, Physics Loss: 0.06443122774362564, Data Loss: 0.08486077934503555\n",
      "Epoch 100/2000, Total Loss: 0.020517004653811455, Physics Loss: 0.0005799927748739719, Data Loss: 0.01993701234459877\n",
      "Epoch 200/2000, Total Loss: 0.020449349656701088, Physics Loss: 0.0006622961955145001, Data Loss: 0.019787052646279335\n",
      "Epoch 300/2000, Total Loss: 0.02042492851614952, Physics Loss: 0.0006989562534727156, Data Loss: 0.019725972786545753\n",
      "Epoch 400/2000, Total Loss: 0.020409628748893738, Physics Loss: 0.0007125575793907046, Data Loss: 0.019697071984410286\n",
      "Epoch 500/2000, Total Loss: 0.020393051207065582, Physics Loss: 0.0007153751794248819, Data Loss: 0.019677676260471344\n",
      "Epoch 600/2000, Total Loss: 0.020373482257127762, Physics Loss: 0.0007165680872276425, Data Loss: 0.019656913354992867\n",
      "Epoch 700/2000, Total Loss: 0.020349079743027687, Physics Loss: 0.0007180866086855531, Data Loss: 0.01963099278509617\n",
      "Epoch 800/2000, Total Loss: 0.020316338166594505, Physics Loss: 0.0007200961117632687, Data Loss: 0.019596241414546967\n",
      "Epoch 900/2000, Total Loss: 0.020268134772777557, Physics Loss: 0.0007225876906886697, Data Loss: 0.019545547664165497\n",
      "Epoch 1000/2000, Total Loss: 0.02018829435110092, Physics Loss: 0.0007255747332237661, Data Loss: 0.019462719559669495\n",
      "Epoch 1100/2000, Total Loss: 0.02003689855337143, Physics Loss: 0.0007288276683539152, Data Loss: 0.019308071583509445\n",
      "Epoch 1200/2000, Total Loss: 0.019748389720916748, Physics Loss: 0.0007307312334887683, Data Loss: 0.01901765912771225\n",
      "Epoch 1300/2000, Total Loss: 0.019417930394411087, Physics Loss: 0.0007339789881370962, Data Loss: 0.01868395134806633\n",
      "Epoch 1400/2000, Total Loss: 0.019254503771662712, Physics Loss: 0.0007419424364343286, Data Loss: 0.018512561917304993\n",
      "Epoch 1500/2000, Total Loss: 0.019180914387106895, Physics Loss: 0.0007626247243024409, Data Loss: 0.018418289721012115\n",
      "Epoch 1600/2000, Total Loss: 0.019142737612128258, Physics Loss: 0.000803798611741513, Data Loss: 0.018338939175009727\n",
      "Epoch 1700/2000, Total Loss: 0.01912360079586506, Physics Loss: 0.0008456088253296912, Data Loss: 0.01827799156308174\n",
      "Epoch 1800/2000, Total Loss: 0.019111333414912224, Physics Loss: 0.0008811349980533123, Data Loss: 0.018230197951197624\n",
      "Epoch 1900/2000, Total Loss: 0.019103245809674263, Physics Loss: 0.0009065868798643351, Data Loss: 0.01819665916264057\n"
     ]
    }
   ],
   "source": [
    "num_epochs = 2000\n",
    "for epoch in range(num_epochs):\n",
    "    with tf.GradientTape() as tape:\n",
    "        total_loss, physics_loss_value, data_loss_value = loss(model, x_train_tf, t_train_tf)\n",
    "        \n",
    "    gradients = tape.gradient(total_loss, model.trainable_variables)\n",
    "    optimizer.apply_gradients(zip(gradients, model.trainable_variables))\n",
    "\n",
    "    if epoch % 100 == 0:\n",
    "        print(f\"Epoch {epoch}/{num_epochs}, Total Loss: {total_loss.numpy()}, Physics Loss: {physics_loss_value.numpy()}, Data Loss: {data_loss_value.numpy()}\")"
   ]
  },
  {
   "cell_type": "code",
   "execution_count": 8,
   "metadata": {},
   "outputs": [],
   "source": [
    "u_pred_test = model(tf.concat([input_test], axis=1))"
   ]
  },
  {
   "cell_type": "code",
   "execution_count": 9,
   "metadata": {},
   "outputs": [],
   "source": [
    "from sklearn.metrics import mean_squared_error, mean_absolute_error"
   ]
  },
  {
   "cell_type": "code",
   "execution_count": 10,
   "metadata": {},
   "outputs": [
    {
     "ename": "NameError",
     "evalue": "name 'u_pred' is not defined",
     "output_type": "error",
     "traceback": [
      "\u001b[1;31m---------------------------------------------------------------------------\u001b[0m",
      "\u001b[1;31mNameError\u001b[0m                                 Traceback (most recent call last)",
      "Cell \u001b[1;32mIn[10], line 2\u001b[0m\n\u001b[0;32m      1\u001b[0m \u001b[38;5;66;03m# Calculate Mean Squared Error\u001b[39;00m\n\u001b[1;32m----> 2\u001b[0m mse \u001b[38;5;241m=\u001b[39m mean_squared_error(u_exact_test_tf, \u001b[43mu_pred\u001b[49m)\n\u001b[0;32m      3\u001b[0m \u001b[38;5;28mprint\u001b[39m(\u001b[38;5;124mf\u001b[39m\u001b[38;5;124m\"\u001b[39m\u001b[38;5;124mMean Squared Error: \u001b[39m\u001b[38;5;132;01m{\u001b[39;00mmse\u001b[38;5;132;01m}\u001b[39;00m\u001b[38;5;124m\"\u001b[39m)\n\u001b[0;32m      5\u001b[0m \u001b[38;5;66;03m# Calculate Mean Absolute Error\u001b[39;00m\n",
      "\u001b[1;31mNameError\u001b[0m: name 'u_pred' is not defined"
     ]
    }
   ],
   "source": [
    "# Calculate Mean Squared Error\n",
    "mse = mean_squared_error(u_exact_test_tf, u_pred)\n",
    "print(f\"Mean Squared Error: {mse}\")\n",
    "\n",
    "# Calculate Mean Absolute Error\n",
    "mae = mean_absolute_error(u_exact_test_tf, u_pred)\n",
    "print(f\"Mean Absolute Error: {mae}\")"
   ]
  },
  {
   "cell_type": "code",
   "execution_count": null,
   "metadata": {},
   "outputs": [],
   "source": [
    "# Plotting\n",
    "plt.figure(figsize=(10, 6))\n",
    "plt.plot(t_test, u_exact_test, label='Exact Solution')\n",
    "plt.plot(t_test, u_pred_test, label='Predicted Solution')\n",
    "plt.xlabel('Position (x)')\n",
    "plt.ylabel('Solution')\n",
    "plt.title('Comparison of Exact and Predicted Solutions')\n",
    "plt.legend()\n",
    "plt.grid(True)\n",
    "plt.show()"
   ]
  }
 ],
 "metadata": {
  "kernelspec": {
   "display_name": "base",
   "language": "python",
   "name": "python3"
  },
  "language_info": {
   "codemirror_mode": {
    "name": "ipython",
    "version": 3
   },
   "file_extension": ".py",
   "mimetype": "text/x-python",
   "name": "python",
   "nbconvert_exporter": "python",
   "pygments_lexer": "ipython3",
   "version": "3.10.13"
  }
 },
 "nbformat": 4,
 "nbformat_minor": 2
}
