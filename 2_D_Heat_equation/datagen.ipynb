{
 "cells": [
  {
   "cell_type": "code",
   "execution_count": 5,
   "metadata": {},
   "outputs": [
    {
     "name": "stdout",
     "output_type": "stream",
     "text": [
      "x_train shape: (5000, 1)\n",
      "t_train shape: (5000, 1)\n",
      "u_train shape: (5000, 1)\n",
      "Data shape: (5000, 3)\n"
     ]
    }
   ],
   "source": [
    "import numpy as np\n",
    "\n",
    "# Parameters\n",
    "L = 1.0       # Length of the rod\n",
    "T = 0.1       # Total time\n",
    "Nx = 50       # Number of spatial grid points\n",
    "Nt = 100      # Number of time steps\n",
    "alpha = 0.01  # Thermal diffusivity\n",
    "\n",
    "# Generate spatial and temporal grid points\n",
    "x = np.linspace(0, L, Nx)\n",
    "t = np.linspace(0, T, Nt)\n",
    "X, T = np.meshgrid(x, t)\n",
    "x_train = X.flatten()[:, None]\n",
    "t_train = T.flatten()[:, None]\n",
    "\n",
    "# Initial condition: u(x, 0) = square pulse\n",
    "u0 = np.zeros(Nx)\n",
    "u0[int(Nx/4):int(3*Nx/4)] = 1\n",
    "u_train = np.tile(u0, (Nt, 1)).flatten()[:, None]\n",
    "\n",
    "# Combine x, t, and u data into a single dataset\n",
    "data = np.hstack((x_train, t_train, u_train))\n",
    "\n",
    "# Save the data to a file for later use\n",
    "np.save('heat_equation_data.npy', data)\n",
    "\n",
    "# Print some data for verification\n",
    "print(\"x_train shape:\", x_train.shape)\n",
    "print(\"t_train shape:\", t_train.shape)\n",
    "print(\"u_train shape:\", u_train.shape)\n",
    "print(\"Data shape:\", data.shape)\n"
   ]
  }
 ],
 "metadata": {
  "kernelspec": {
   "display_name": "Python 3",
   "language": "python",
   "name": "python3"
  },
  "language_info": {
   "codemirror_mode": {
    "name": "ipython",
    "version": 3
   },
   "file_extension": ".py",
   "mimetype": "text/x-python",
   "name": "python",
   "nbconvert_exporter": "python",
   "pygments_lexer": "ipython3",
   "version": "3.10.10"
  }
 },
 "nbformat": 4,
 "nbformat_minor": 2
}
